{
 "cells": [
  {
   "cell_type": "code",
   "execution_count": 1,
   "metadata": {},
   "outputs": [
    {
     "name": "stdout",
     "output_type": "stream",
     "text": [
      "1.0\n"
     ]
    }
   ],
   "source": [
    "import pandas as pd\n",
    "import numpy as np\n",
    "\n",
    "from sklearn import preprocessing\n",
    "\n",
    "from sklearn.svm import SVC\n",
    "\n",
    "\n",
    "train_df = # TODO: read from ./data/train.csv and drop rows containing missing values\n",
    "test_df = # TODO: read from ./data/test.csv and drop rows containing missing values\n",
    "\n",
    "X_train = # TODO: drop column Survived from train_df\n",
    "Y_train = # TODO: Only the survived column from train_df\n",
    "\n",
    "X_test  = test_df.drop(\"PassengerId\", axis=1).copy()\n",
    "\n",
    "le = preprocessing.LabelEncoder()\n",
    "\n",
    "for column_name in X_train.columns:\n",
    "    if X_train[column_name].dtype == object:\n",
    "        # TODO: Transform non-numerical values into numerical values\n",
    "\n",
    "svc = # TODO: new SVC instance with Kernel rbf and gamma value of \"auto\"\n",
    "# TODO: Fit the SVC model onto the training data\n",
    "\n",
    "Y_train_pred= # TODO: predict labels for given train set X_train\n",
    "\n",
    "#Print the score:\n",
    "print(svc.score(X_train, Y_train_pred))\n"
   ]
  },
  {
   "cell_type": "code",
   "execution_count": null,
   "metadata": {},
   "outputs": [],
   "source": []
  }
 ],
 "metadata": {
  "kernelspec": {
   "display_name": "Python 3",
   "language": "python",
   "name": "python3"
  },
  "language_info": {
   "codemirror_mode": {
    "name": "ipython",
    "version": 3
   },
   "file_extension": ".py",
   "mimetype": "text/x-python",
   "name": "python",
   "nbconvert_exporter": "python",
   "pygments_lexer": "ipython3",
   "version": "3.7.0"
  }
 },
 "nbformat": 4,
 "nbformat_minor": 2
}
