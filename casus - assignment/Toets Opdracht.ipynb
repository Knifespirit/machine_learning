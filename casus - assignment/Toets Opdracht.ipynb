{
 "cells": [
  {
   "cell_type": "markdown",
   "metadata": {
    "slideshow": {
     "slide_type": "slide"
    }
   },
   "source": [
    "### Opdrachtomschrijving\n",
    "\n",
    "Deze opdracht is een toets om de module Machine Learning af te sluiten (beoordelingsopdracht). Het resultaat is een individueel cijfer.\n",
    "\n",
    "De deelopdrachten volgen het *machine-learning workflow* zoals in college is benoemd/behandeld.\n"
   ]
  },
  {
   "cell_type": "markdown",
   "metadata": {
    "slideshow": {
     "slide_type": "slide"
    }
   },
   "source": [
    "### Uitvoering\n",
    "1. Je maakt de opdracht samen met 2 anderen (team van 3 personen).\n",
    "2. Opleveringsformat: één Jupyter notebook (Python kernel).\n",
    "3. Samenstelling notebook: combinatie van model, Python code en uitleg (beschrijvende tekst, grafieken).\n",
    "4. Je levert de Jupyter notebook op ELO (inleveropdracht)uiterlijk op de aangegeven deadline. Zie ELO.\n",
    "4. Je presenteert de resultaten samen met je teamgenoten aan een panel, bestaande uit docent(en) en expert(s). \n",
    "> Tijd: 30 minuten, inclusief vragen vanuit panel. Minimaal 15 minuten presentatie model, code en uitleg."
   ]
  },
  {
   "cell_type": "markdown",
   "metadata": {
    "slideshow": {
     "slide_type": "slide"
    }
   },
   "source": [
    "### Criteria\n",
    "1. Je maakt gebruik van minimaal de volgende libraries: `numpy`, `pandas`, `matplotlib` (`seaborn`) en `scikit-learn`. **Optioneel**: ook gebruik van de libraries, die in de colleges zijn behandeld of benoemd.\n",
    "2. Alle code werkt zonder run-time errors (warnings zijn acceptabel).\n",
    "3. Je hebt minimaal 2 machine learning algorithm/technieken toegepast. Je toont hiermee aan inzicht te hebben in de situatie en dat je niet slechts één machine learning techniek gebruikt, die je dan 'toevallig' kent.\n",
    "4. Je hebt een verantwoording beschreven voor de `feature selection`. M.a.w. je kan uitleggen de keuzen voor de `features` en wat je ermee gedaan hebt voor aanvang van de analysis (zoals weglaten, mee laten wegen met bepaalde factor, etc.).\n",
    "5. Elke (deel)opdracht is in het resultaat aanwezig.\n",
    "6. Elk teamlid is in staat een relevant antwoord te geven op vragen van panel."
   ]
  },
  {
   "cell_type": "markdown",
   "metadata": {
    "slideshow": {
     "slide_type": "slide"
    }
   },
   "source": [
    "### Beoordeling\n",
    "- Wanneer aan de criteria is voldaan is het resultaat VOLDOENDE, anders ONVOLDOENDE.\n",
    "- Het cijfer wordt bepaald door het panel op basis van hun ervaring en expertise, waarbij de volgende onderwerpen een rol spelen: \n",
    "> - netheid/verzorging Jupyter notebook.\n",
    "> - diepgang en complexiteit van de opdracht.\n",
    "> - diepgang van de door jou gegeven antwoorden.\n",
    "- Het gegeven team-cijfer is een individueel cijfer, tenzij er redenen zijn om af te wijken.\n"
   ]
  },
  {
   "cell_type": "markdown",
   "metadata": {
    "slideshow": {
     "slide_type": "fragment"
    }
   },
   "source": [
    "#### Voorbeeld uitwerking\n",
    "Voorbeeld van een mogelijke uitwerking staan bij __[Kaggle tutorials](https://www.kaggle.com/tags/tutorial)__ w.o. de __[Titanic: Machine Learning from Disaster (getting started)](https://www.kaggle.com/startupsci/titanic-data-science-solutions#)__."
   ]
  },
  {
   "cell_type": "markdown",
   "metadata": {
    "slideshow": {
     "slide_type": "slide"
    }
   },
   "source": [
    "## 1. Probleem/behoefte definitie\n",
    "\n",
    "#### Opdracht\n",
    "- Formuleer je vraagstuk. Doe een kort vooronderzoek om te bepalen welke vraagstuk je gaat uitwerken.\n",
    "- Bespreek vraagstuk met docent/expert voor toestemming.\n",
    "\n",
    "**Alternatief**: tijdens de exploratory fase formuleer je het vraagstuk dat je wilt uitzoeken."
   ]
  },
  {
   "cell_type": "markdown",
   "metadata": {
    "slideshow": {
     "slide_type": "fragment"
    }
   },
   "source": [
    "#### Resultaat\n",
    "Formulering vraagstuk, mogelijk in de vorm van een serie vragen, waarvoor je toestemming hebt van docent/expert."
   ]
  },
  {
   "cell_type": "markdown",
   "metadata": {
    "slideshow": {
     "slide_type": "fragment"
    }
   },
   "source": [
    "#### Bronnen\n",
    "- __[Kaggle competities](https://www.kaggle.com/competitions)__\n",
    "- __[UCI Machine Learning Repository](http://archive.ics.uci.edu/ml/)__\n",
    "- ...."
   ]
  },
  {
   "cell_type": "markdown",
   "metadata": {
    "slideshow": {
     "slide_type": "slide"
    }
   },
   "source": [
    "## 2. Dataset\n",
    "Zoek een dataset uit die je gaat uitwerken in deze casus."
   ]
  },
  {
   "cell_type": "markdown",
   "metadata": {
    "slideshow": {
     "slide_type": "fragment"
    }
   },
   "source": [
    "#### Dataset bronnen\n",
    "- __[Kaggle](https://www.kaggle.com/datasets)__, mogelijk op basis van een competitie.\n",
    "- __[UCI Machine Learning Repository](http://archive.ics.uci.edu/ml/)__.\n",
    "- **zelfgekozen repository**, overleg van tevoren met de docent/expert."
   ]
  },
  {
   "cell_type": "markdown",
   "metadata": {
    "slideshow": {
     "slide_type": "slide"
    }
   },
   "source": [
    "## 3. Exploratory phase\n",
    "#### Opdrachten\n",
    "- Onderzoek de dataset zowel **textueel** als **grafisch**. Gebruik de libraries `pandas`, `numpy` en `matplotlib` (`seaborn`).\n",
    "- Beschrijf elke `feature`: betekenis en datatype.\n",
    "- Geef minimaal twee 'voorlopige vragen' die je mogelijk gaat uitgewerkt.\n",
    "- Bespreek uit-te-werken vraagstuk/vragen met docent/expert. "
   ]
  },
  {
   "cell_type": "markdown",
   "metadata": {
    "slideshow": {
     "slide_type": "fragment"
    }
   },
   "source": [
    "#### Milestone resultaat\n",
    "\n",
    "Formulering vraagstuk, mogelijk in de vorm van een serie vragen, waarvoor je toestemming hebt van docent/expert."
   ]
  },
  {
   "cell_type": "markdown",
   "metadata": {
    "slideshow": {
     "slide_type": "slide"
    }
   },
   "source": [
    "## 4. Cleaning phase\n",
    "\n",
    "#### Opdrachten\n",
    "- Benoem ontbrekende data voor `features`, zoals `NaN`-data, data dat in ander data-type beter past bij de analyses, of met een ander gewicht meetelt in de analysis.\n",
    "> Gebruik o.a. de libraries `pandas` en `numpy`.\n",
    "- Benoem wat je met die `features` gaat doen en beargumenteer je besissing."
   ]
  },
  {
   "cell_type": "markdown",
   "metadata": {
    "slideshow": {
     "slide_type": "slide"
    }
   },
   "source": [
    "## 5. Model construction phase\n",
    "\n",
    "#### Opdrachten\n",
    "- Formuleer het algorithm (model) dat je gaat toepassen op de dataset en beargumenteer je keuze van het model.\n",
    "- Werk het model/algorithm uit, zodat je antwoord krijgt op de eerder gestelde vragen of vraagstuk.\n",
    "> Gebruik de libraries `pandas`, `numpy`, `matplotlib` en `scikit-learn`, en eventueel andere data-science libraries.\n",
    "- Formuleer en werk uit een 2de machine learning algorithm.\n",
    "- De uitwerking bevat \n",
    "> - uitleg over model en strategie van de `feature selection`\n",
    "> - grafieken\n",
    "> - Python code\n",
    "> - conclusie(s)"
   ]
  },
  {
   "cell_type": "markdown",
   "metadata": {
    "slideshow": {
     "slide_type": "slide"
    }
   },
   "source": [
    "## 6. Model evaluation phase\n",
    "\n",
    "#### Opdrachten\n",
    "- Discusieer de waarschijnlijkheid van de antwoorden. Eventueel vergelijk je de resultaten met een ander, tevens uitgewerkt model/algorithm.\n",
    "- **Optioneel**: Benoem de operationele vereisten voor het monitoren en updaten van het model."
   ]
  },
  {
   "cell_type": "markdown",
   "metadata": {
    "slideshow": {
     "slide_type": "slide"
    }
   },
   "source": [
    "## 7. Rapportage phase\n",
    "\n",
    "#### Opdrachten\n",
    "- Maak je Jupyter notebook opleverings-waardig.\n",
    "> - check/verbeter spelfouten.\n",
    "> - check/verbeter dat alle code werkt.\n",
    "> - check/toon in de 1ste code-cell welke versies van de libraries je gebruikt hebt.\n",
    "> - check/benoem de referenties, die je gebruikt hebt in de opdrachten. Referentie conform APA.\n",
    "> - check/benoem wat-je-verder-van-belang-vindt met onderbouwing.\n",
    "- Lever de Jupyter notebook op ELO, uiterlijk op de deadline."
   ]
  },
  {
   "cell_type": "markdown",
   "metadata": {
    "slideshow": {
     "slide_type": "subslide"
    }
   },
   "source": [
    "- Presenteer samen met je team de resultaten voor het panel.\n",
    "> - Zorg dat de presentatie van de Jupyter notebook correct werkt op de beoordelings-sessie.\n",
    "> - Zorg dat de Jupyter notebook met de resultaten binnen drie minuten getoond kan worden.\n",
    "> - Presenteer de resultaten (model, code, uitleg) in minimaal 15 minuten.\n",
    "> - Tijd om aan te tonen dat jouw resultaat voldoet aan de cesuur is 30 minuten."
   ]
  },
  {
   "cell_type": "markdown",
   "metadata": {
    "slideshow": {
     "slide_type": "fragment"
    }
   },
   "source": [
    "# Success!\n",
    "\n",
    "### Stefan en Peter"
   ]
  }
 ],
 "metadata": {
  "celltoolbar": "Slideshow",
  "kernelspec": {
   "display_name": "Python 3",
   "language": "python",
   "name": "python3"
  },
  "language_info": {
   "codemirror_mode": {
    "name": "ipython",
    "version": 3
   },
   "file_extension": ".py",
   "mimetype": "text/x-python",
   "name": "python",
   "nbconvert_exporter": "python",
   "pygments_lexer": "ipython3",
   "version": "3.6.6"
  }
 },
 "nbformat": 4,
 "nbformat_minor": 2
}
