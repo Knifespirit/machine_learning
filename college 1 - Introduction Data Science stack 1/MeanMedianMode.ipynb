{
 "cells": [
  {
   "cell_type": "markdown",
   "metadata": {
    "slideshow": {
     "slide_type": "slide"
    }
   },
   "source": [
    "# Basic statistic: Mean, Median, Mode"
   ]
  },
  {
   "cell_type": "markdown",
   "metadata": {
    "slideshow": {
     "slide_type": "slide"
    }
   },
   "source": [
    "## Mean"
   ]
  },
  {
   "cell_type": "markdown",
   "metadata": {
    "slideshow": {
     "slide_type": "fragment"
    }
   },
   "source": [
    "- `mean` is het gemiddelde van een aantal gegevens (numerical, discrete)\n",
    "\n",
    "**Voorbeeld**\n",
    "Het aantal kinderen per huis in de buurt: 0, 2, 3, 2, 1, 0, 0, 2, 0\n"
   ]
  },
  {
   "cell_type": "markdown",
   "metadata": {
    "slideshow": {
     "slide_type": "fragment"
    }
   },
   "source": [
    "Mean: (0+2+3+2+1+0+0+2+0) / 9 = 1.11"
   ]
  },
  {
   "cell_type": "markdown",
   "metadata": {
    "slideshow": {
     "slide_type": "slide"
    }
   },
   "source": [
    "## Median"
   ]
  },
  {
   "cell_type": "markdown",
   "metadata": {
    "slideshow": {
     "slide_type": "fragment"
    }
   },
   "source": [
    "- `median` is de waarde van het middelste getal in de (numeriek)gesorteerde gegevens\n",
    "\n",
    "**Voorbeeld**\n",
    "Het aantal kinderen per huis in de buurt: 0, 2, 3, 2, 1, 0, 0, 2, 0"
   ]
  },
  {
   "cell_type": "markdown",
   "metadata": {
    "slideshow": {
     "slide_type": "fragment"
    }
   },
   "source": [
    "**Median** \n",
    "- originele reeks:   0,2,3,2,1,0,0,2,0\n",
    "- gesorteerde reeks: 0,0,0,0,1,2,2,2,3 \n",
    "- median: 1 (middelste waarde)\n",
    "\n",
    "NB. Bij een *even* aantal getallen: median is gemiddelde van de middelste getallen"
   ]
  },
  {
   "cell_type": "markdown",
   "metadata": {
    "slideshow": {
     "slide_type": "slide"
    }
   },
   "source": [
    "## Mode"
   ]
  },
  {
   "cell_type": "markdown",
   "metadata": {
    "slideshow": {
     "slide_type": "fragment"
    }
   },
   "source": [
    "- `mode` is de meest voorkomende waarde in de dataset.\n",
    "> - niet relevant voor continu numerieke gegevens\n",
    "\n",
    "**Voorbeeld**\n",
    "Het aantal kinderen per huis in de buurt: 0, 2, 3, 2, 1, 0, 0, 2, 0"
   ]
  },
  {
   "cell_type": "markdown",
   "metadata": {
    "slideshow": {
     "slide_type": "fragment"
    }
   },
   "source": [
    "**Mode**\n",
    "- hoeveel keer komt elke waarde voor: \n",
    "0: 4, 1:1, 2: 3, 3:1 \n",
    "- mode: 0"
   ]
  },
  {
   "cell_type": "markdown",
   "metadata": {
    "slideshow": {
     "slide_type": "slide"
    }
   },
   "source": [
    "## Mean vs. Median"
   ]
  },
  {
   "cell_type": "markdown",
   "metadata": {
    "slideshow": {
     "slide_type": "fragment"
    }
   },
   "source": [
    "Let's create some fake income data, centered around 27,000 with a normal distribution and standard deviation of 15,000, with 10,000 data points. (We'll discuss those terms more later, if you're not familiar with them.)\n",
    "\n",
    "Then, compute the mean (average) - it should be close to 27,000:"
   ]
  },
  {
   "cell_type": "code",
   "execution_count": 32,
   "metadata": {
    "slideshow": {
     "slide_type": "fragment"
    }
   },
   "outputs": [
    {
     "data": {
      "text/plain": [
       "27010.834365631123"
      ]
     },
     "execution_count": 32,
     "metadata": {},
     "output_type": "execute_result"
    }
   ],
   "source": [
    "import numpy as np\n",
    "\n",
    "incomes = np.random.normal(27000, 15000, 10000)\n",
    "np.mean(incomes)"
   ]
  },
  {
   "cell_type": "markdown",
   "metadata": {
    "slideshow": {
     "slide_type": "slide"
    }
   },
   "source": [
    "We can segment the income data into 50 buckets, and plot it as a histogram:"
   ]
  },
  {
   "cell_type": "code",
   "execution_count": 33,
   "metadata": {
    "slideshow": {
     "slide_type": "fragment"
    }
   },
   "outputs": [
    {
     "data": {
      "image/png": "[encoded data removed]",
      "text/plain": [
       "<Figure size 432x288 with 1 Axes>"
      ]
     },
     "metadata": {
      "needs_background": "light"
     },
     "output_type": "display_data"
    }
   ],
   "source": [
    "%matplotlib inline\n",
    "import matplotlib.pyplot as plt\n",
    "plt.hist(incomes, 50)\n",
    "plt.show()"
   ]
  },
  {
   "cell_type": "markdown",
   "metadata": {
    "slideshow": {
     "slide_type": "fragment"
    }
   },
   "source": [
    "Now compute the median - since we have a nice, even distribution it too should be close to 27,000:"
   ]
  },
  {
   "cell_type": "code",
   "execution_count": 34,
   "metadata": {
    "slideshow": {
     "slide_type": "fragment"
    }
   },
   "outputs": [
    {
     "data": {
      "text/plain": [
       "27081.03190137155"
      ]
     },
     "execution_count": 34,
     "metadata": {},
     "output_type": "execute_result"
    }
   ],
   "source": [
    "np.median(incomes)"
   ]
  },
  {
   "cell_type": "markdown",
   "metadata": {
    "slideshow": {
     "slide_type": "slide"
    }
   },
   "source": [
    "Now we'll add Donald Trump into the mix. Darn income inequality!"
   ]
  },
  {
   "cell_type": "code",
   "execution_count": 35,
   "metadata": {
    "slideshow": {
     "slide_type": "fragment"
    }
   },
   "outputs": [],
   "source": [
    "incomes = np.append(incomes, [1000000000])"
   ]
  },
  {
   "cell_type": "markdown",
   "metadata": {
    "slideshow": {
     "slide_type": "fragment"
    }
   },
   "source": [
    "The median won't change much, but the mean does:"
   ]
  },
  {
   "cell_type": "code",
   "execution_count": 36,
   "metadata": {
    "slideshow": {
     "slide_type": "fragment"
    }
   },
   "outputs": [
    {
     "data": {
      "text/plain": [
       "27081.391863515626"
      ]
     },
     "execution_count": 36,
     "metadata": {},
     "output_type": "execute_result"
    }
   ],
   "source": [
    "np.median(incomes)"
   ]
  },
  {
   "cell_type": "code",
   "execution_count": 37,
   "metadata": {
    "slideshow": {
     "slide_type": "fragment"
    }
   },
   "outputs": [
    {
     "data": {
      "text/plain": [
       "126998.13455217589"
      ]
     },
     "execution_count": 37,
     "metadata": {},
     "output_type": "execute_result"
    }
   ],
   "source": [
    "np.mean(incomes)"
   ]
  },
  {
   "cell_type": "markdown",
   "metadata": {
    "slideshow": {
     "slide_type": "slide"
    }
   },
   "source": [
    "## Mode"
   ]
  },
  {
   "cell_type": "markdown",
   "metadata": {
    "slideshow": {
     "slide_type": "fragment"
    }
   },
   "source": [
    "Next, let's generate some fake age data for 500 people:"
   ]
  },
  {
   "cell_type": "code",
   "execution_count": 38,
   "metadata": {
    "slideshow": {
     "slide_type": "fragment"
    }
   },
   "outputs": [
    {
     "data": {
      "text/plain": [
       "array([49, 62, 63, 58, 52, 60, 30, 69, 57, 24, 58, 60, 69, 34, 49, 52, 81,\n",
       "       83, 52, 37, 48, 42, 42, 51, 41, 28, 45, 55, 42, 69, 42, 81, 75, 34,\n",
       "       48, 81, 82, 48, 29, 42, 44, 24, 34, 39, 78, 80, 55, 38, 63, 59, 67,\n",
       "       87, 77, 81, 59, 55, 66, 23, 63, 88, 34, 50, 79, 76, 86, 60, 20, 21,\n",
       "       60, 36, 26, 75, 54, 83, 57, 52, 66, 85, 71, 46, 36, 64, 53, 77, 75,\n",
       "       81, 69, 40, 44, 56, 18, 66, 54, 87, 78, 25, 30, 19, 61, 58, 76, 71,\n",
       "       30, 84, 34, 88, 42, 89, 49, 73, 38, 37, 62, 48, 85, 87, 63, 85, 40,\n",
       "       19, 66, 39, 78, 77, 25, 49, 49, 26, 29, 67, 75, 27, 33, 66, 79, 35,\n",
       "       65, 27, 67, 39, 38, 24, 69, 73, 42, 79, 29, 61, 46, 77, 47, 18, 30,\n",
       "       39, 58, 35, 26, 50, 68, 45, 48, 82, 86, 37, 64, 48, 54, 78, 83, 29,\n",
       "       75, 84, 69, 65, 18, 18, 51, 74, 30, 37, 82, 88, 31, 27, 64, 66, 66,\n",
       "       81, 60, 72, 36, 56, 46, 19, 79, 54, 25, 78, 75, 18, 27, 51, 43, 68,\n",
       "       56, 87, 37, 64, 39, 48, 19, 75, 69, 78, 28, 81, 88, 47, 20, 53, 51,\n",
       "       70, 88, 29, 45, 26, 22, 77, 33, 80, 69, 36, 65, 32, 83, 32, 69, 76,\n",
       "       42, 77, 74, 31, 58, 52, 68, 80, 37, 57, 41, 81, 51, 58, 68, 76, 84,\n",
       "       39, 35, 62, 54, 72, 52, 59, 25, 40, 79, 18, 24, 65, 77, 53, 18, 59,\n",
       "       68, 25, 68, 62, 73, 26, 28, 38, 20, 54, 54, 21, 35, 49, 74, 81, 80,\n",
       "       34, 33, 89, 76, 50, 84, 40, 32, 49, 61, 29, 70, 31, 62, 89, 79, 39,\n",
       "       53, 80, 35, 25, 32, 35, 45, 75, 66, 23, 33, 80, 20, 53, 63, 80, 51,\n",
       "       66, 64, 70, 77, 41, 53, 36, 34, 74, 23, 20, 68, 43, 19, 87, 68, 89,\n",
       "       40, 83, 33, 78, 68, 64, 89, 36, 79, 65, 83, 71, 34, 81, 19, 84, 18,\n",
       "       40, 73, 76, 31, 50, 36, 53, 49, 53, 67, 31, 47, 36, 77, 23, 25, 67,\n",
       "       37, 65, 31, 82, 36, 65, 67, 29, 19, 24, 70, 59, 72, 27, 47, 58, 84,\n",
       "       28, 85, 28, 49, 56, 26, 35, 80, 78, 62, 69, 56, 77, 32, 79, 77, 51,\n",
       "       49, 23, 41, 33, 37, 21, 82, 45, 57, 40, 32, 31, 88, 19, 54, 74, 50,\n",
       "       20, 69, 81, 87, 31, 83, 56, 62, 59, 39, 54, 44, 28, 84, 89, 41, 21,\n",
       "       78, 86, 26, 53, 48, 48, 29, 65, 57, 56, 77, 88, 41, 46, 29, 20, 77,\n",
       "       80, 45, 50, 24, 75, 39, 73, 85, 45, 61, 41, 51, 52, 65, 28, 50, 61,\n",
       "       19, 24, 44, 28, 70, 18, 67, 24, 64, 76, 52, 30, 78, 41, 87, 65, 33,\n",
       "       30, 86, 74, 67, 59, 49, 30])"
      ]
     },
     "execution_count": 38,
     "metadata": {},
     "output_type": "execute_result"
    }
   ],
   "source": [
    "ages = np.random.randint(18, high=90, size=500)\n",
    "ages"
   ]
  },
  {
   "cell_type": "code",
   "execution_count": 39,
   "metadata": {
    "slideshow": {
     "slide_type": "slide"
    }
   },
   "outputs": [
    {
     "data": {
      "text/plain": [
       "ModeResult(mode=array([77]), count=array([13]))"
      ]
     },
     "execution_count": 39,
     "metadata": {},
     "output_type": "execute_result"
    }
   ],
   "source": [
    "from scipy import stats\n",
    "stats.mode(ages)"
   ]
  },
  {
   "cell_type": "markdown",
   "metadata": {
    "slideshow": {
     "slide_type": "fragment"
    }
   },
   "source": [
    "`mode`: number `n` is most common value, occurs number `count` times."
   ]
  },
  {
   "cell_type": "markdown",
   "metadata": {
    "slideshow": {
     "slide_type": "slide"
    }
   },
   "source": [
    "## Activity\n",
    "\n",
    "Zie notebook [Exercises - Mean & Median Customer Spend](MeanMedianExercise.ipynb)"
   ]
  },
  {
   "cell_type": "code",
   "execution_count": null,
   "metadata": {
    "slideshow": {
     "slide_type": "skip"
    }
   },
   "outputs": [],
   "source": []
  }
 ],
 "metadata": {
  "celltoolbar": "Raw Cell Format",
  "kernelspec": {
   "display_name": "Python 3",
   "language": "python",
   "name": "python3"
  },
  "language_info": {
   "codemirror_mode": {
    "name": "ipython",
    "version": 3
   },
   "file_extension": ".py",
   "mimetype": "text/x-python",
   "name": "python",
   "nbconvert_exporter": "python",
   "pygments_lexer": "ipython3",
   "version": "3.6.6"
  }
 },
 "nbformat": 4,
 "nbformat_minor": 1
}
